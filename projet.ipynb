{
 "cells": [
  {
   "cell_type": "markdown",
   "id": "f0f00d74",
   "metadata": {},
   "source": [
    "**PROJET ANALYSE DE DONNEES**\n",
    "**Exploiter les spectres galactiques extraits du SDSS pour prédire certaines quantités physiques**"
   ]
  },
  {
   "cell_type": "code",
   "execution_count": 1,
   "id": "53bc01f3",
   "metadata": {},
   "outputs": [],
   "source": [
    "import pandas as pd\n",
    "df = pd.read_csv(\"data/dataset.csv\")"
   ]
  },
  {
   "cell_type": "code",
   "execution_count": 2,
   "id": "92442d6b",
   "metadata": {},
   "outputs": [
    {
     "name": "stdout",
     "output_type": "stream",
     "text": [
      "<class 'pandas.core.frame.DataFrame'>\n",
      "RangeIndex: 100000 entries, 0 to 99999\n",
      "Data columns (total 43 columns):\n",
      " #   Column       Non-Null Count   Dtype  \n",
      "---  ------       --------------   -----  \n",
      " 0   objID        100000 non-null  int64  \n",
      " 1   ra           100000 non-null  float64\n",
      " 2   dec          100000 non-null  float64\n",
      " 3   u            100000 non-null  float64\n",
      " 4   g            100000 non-null  float64\n",
      " 5   r            100000 non-null  float64\n",
      " 6   i            100000 non-null  float64\n",
      " 7   z            100000 non-null  float64\n",
      " 8   run          100000 non-null  int64  \n",
      " 9   rerun        100000 non-null  int64  \n",
      " 10  camcol       100000 non-null  int64  \n",
      " 11  field        100000 non-null  int64  \n",
      " 12  specObjID    100000 non-null  int64  \n",
      " 13  plate        100000 non-null  int64  \n",
      " 14  mjd          100000 non-null  int64  \n",
      " 15  fiberID      100000 non-null  int64  \n",
      " 16  petroRad_u   100000 non-null  float64\n",
      " 17  petroRad_g   100000 non-null  float64\n",
      " 18  petroRad_r   100000 non-null  float64\n",
      " 19  petroRad_i   100000 non-null  float64\n",
      " 20  petroRad_z   100000 non-null  float64\n",
      " 21  petroFlux_u  100000 non-null  float64\n",
      " 22  petroFlux_g  100000 non-null  float64\n",
      " 23  petroFlux_r  100000 non-null  float64\n",
      " 24  petroFlux_i  100000 non-null  float64\n",
      " 25  petroFlux_z  100000 non-null  float64\n",
      " 26  petroR50_u   100000 non-null  float64\n",
      " 27  petroR50_g   100000 non-null  float64\n",
      " 28  petroR50_r   100000 non-null  float64\n",
      " 29  petroR50_i   100000 non-null  float64\n",
      " 30  petroR50_z   100000 non-null  float64\n",
      " 31  psfMag_u     100000 non-null  float64\n",
      " 32  psfMag_g     100000 non-null  float64\n",
      " 33  psfMag_r     100000 non-null  float64\n",
      " 34  psfMag_i     100000 non-null  float64\n",
      " 35  psfMag_z     100000 non-null  float64\n",
      " 36  expAB_u      100000 non-null  float64\n",
      " 37  expAB_g      100000 non-null  float64\n",
      " 38  expAB_r      100000 non-null  float64\n",
      " 39  expAB_i      100000 non-null  float64\n",
      " 40  expAB_z      100000 non-null  float64\n",
      " 41  redshift     100000 non-null  float64\n",
      " 42  class        100000 non-null  object \n",
      "dtypes: float64(33), int64(9), object(1)\n",
      "memory usage: 32.8+ MB\n"
     ]
    }
   ],
   "source": [
    "df.head()\n",
    "df.info()"
   ]
  }
 ],
 "metadata": {
  "kernelspec": {
   "display_name": "Python 3",
   "language": "python",
   "name": "python3"
  },
  "language_info": {
   "codemirror_mode": {
    "name": "ipython",
    "version": 3
   },
   "file_extension": ".py",
   "mimetype": "text/x-python",
   "name": "python",
   "nbconvert_exporter": "python",
   "pygments_lexer": "ipython3",
   "version": "3.12.10"
  }
 },
 "nbformat": 4,
 "nbformat_minor": 5
}
